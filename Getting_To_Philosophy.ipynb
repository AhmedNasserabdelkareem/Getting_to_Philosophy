{
  "nbformat": 4,
  "nbformat_minor": 0,
  "metadata": {
    "colab": {
      "name": "Getting_To_Philosophy.ipynb",
      "provenance": [],
      "collapsed_sections": []
    },
    "kernelspec": {
      "name": "python3",
      "display_name": "Python 3"
    }
  },
  "cells": [
    {
      "cell_type": "markdown",
      "metadata": {
        "id": "WP0B1i_TRY-z",
        "colab_type": "text"
      },
      "source": [
        "# Imports"
      ]
    },
    {
      "cell_type": "code",
      "metadata": {
        "id": "3bqKu4maEhiD",
        "colab_type": "code",
        "colab": {}
      },
      "source": [
        "import httplib2\n",
        "from bs4 import BeautifulSoup, SoupStrainer\n",
        "import re\n",
        "import time"
      ],
      "execution_count": null,
      "outputs": []
    },
    {
      "cell_type": "markdown",
      "metadata": {
        "id": "ypjTzYNuRdpe",
        "colab_type": "text"
      },
      "source": [
        "# Arguements"
      ]
    },
    {
      "cell_type": "code",
      "metadata": {
        "id": "IrpwNFlUKMZn",
        "colab_type": "code",
        "colab": {}
      },
      "source": [
        "start_url = '/wiki/Special:Random'\n",
        "max_requests = 50\n",
        "visited_links = []"
      ],
      "execution_count": null,
      "outputs": []
    },
    {
      "cell_type": "markdown",
      "metadata": {
        "id": "A6eWw8KHRf1M",
        "colab_type": "text"
      },
      "source": [
        "# Functions"
      ]
    },
    {
      "cell_type": "code",
      "metadata": {
        "id": "fkqv01GPKD6o",
        "colab_type": "code",
        "colab": {}
      },
      "source": [
        "def get_links(url):\n",
        "  data = []\n",
        "  http = httplib2.Http()\n",
        "  status, response = http.request(url)\n",
        "  for link in BeautifulSoup(response, 'html.parser',parse_only=SoupStrainer('a')):\n",
        "      if link.has_attr('href'):\n",
        "          data.append(link['href'])\n",
        "  return data"
      ],
      "execution_count": null,
      "outputs": []
    },
    {
      "cell_type": "code",
      "metadata": {
        "id": "NhBChkd-LNKj",
        "colab_type": "code",
        "colab": {}
      },
      "source": [
        "def get_next_link(data):\n",
        "  pattern = '/wiki/.'\n",
        "  for i in data:\n",
        "    if re.match(pattern, i):\n",
        "      if (':' not in i) and ('(' not in i):\n",
        "        if i.split('/')[2] !='Main_Page':\n",
        "          return i\n",
        "        \n",
        "  return -1"
      ],
      "execution_count": null,
      "outputs": []
    },
    {
      "cell_type": "code",
      "metadata": {
        "id": "XXpsmsGaNeV3",
        "colab_type": "code",
        "colab": {}
      },
      "source": [
        "def check_target(page):\n",
        "  if \"Philosophy\" in page:\n",
        "    return True"
      ],
      "execution_count": null,
      "outputs": []
    },
    {
      "cell_type": "code",
      "metadata": {
        "id": "7SKyyzuuK6pg",
        "colab_type": "code",
        "colab": {
          "base_uri": "https://localhost:8080/",
          "height": 290
        },
        "outputId": "c940d1b9-59f6-4d5b-8c21-d477d521ca48"
      },
      "source": [
        "page = start_url\n",
        "for i in range(max_requests):\n",
        "  data = get_links('https://en.wikipedia.org'+page)\n",
        "  page = get_next_link(data)\n",
        "  print(page)\n",
        "  if check_target(page): # If we reached our target\n",
        "    break\n",
        "  elif page in visited_links: #If cycle \n",
        "    print(\"Cycle\")\n",
        "    break\n",
        "    #page = start_url  //For starting again\n",
        "  else:\n",
        "    visited_links.append(page)\n",
        "    time.sleep(0.5)"
      ],
      "execution_count": null,
      "outputs": [
        {
          "output_type": "stream",
          "text": [
            "/wiki/Las_Mercedes,_Caracas\n",
            "/wiki/Las_Mercedes_Municipality\n",
            "/wiki/Municipalities_of_Venezuela\n",
            "/wiki/Municipality\n",
            "/wiki/Ponce_City_Hall\n",
            "/wiki/National_Register_of_Historic_Places\n",
            "/wiki/Canadian_Register_of_Historic_Places\n",
            "/wiki/Comprehensive_Rural_Health_Project\n",
            "/wiki/Jamkhed\n",
            "/wiki/Ahmednagar_district\n",
            "/wiki/Nashik\n",
            "/wiki/Metropolis\n",
            "/wiki/Metropolitan_area\n",
            "/wiki/Metropolis\n",
            "Cycle\n"
          ],
          "name": "stdout"
        }
      ]
    }
  ]
}